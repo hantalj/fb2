{
 "cells": [
  {
   "cell_type": "code",
   "execution_count": 25,
   "id": "3464dced",
   "metadata": {},
   "outputs": [
    {
     "name": "stdout",
     "output_type": "stream",
     "text": [
      "['A', 'C', 'B'] answer= 3\n"
     ]
    }
   ],
   "source": [
    "import time\n",
    "import math\n",
    "testVect = [\"DABCA\",[-4,1,-3,2,3,-4],[4,1,-2,-2,-3,]]\n",
    "\n",
    "#creating a list for points\n",
    "\n",
    "points = [char for char in testVect[0]]\n",
    "\n",
    "#calculating the distance from origin\n",
    "rads = []\n",
    "\n",
    "for i in range(len(testVect[0])):\n",
    "    rads.append(math.sqrt(testVect[1][i]**2 + testVect[2][i]**2))\n",
    "\n",
    "#sorting points in order of their distance from origin, bubble sort\n",
    "\n",
    "for i in range(len(rads)):\n",
    "    for j in range(len(rads)-i-1):\n",
    "        if rads[j]>rads[j+1]:\n",
    "            rads[j], rads[j+1] = rads[j+1], rads[j]\n",
    "            points[j], points[j+1] = points[j+1], points[j]\n",
    "\n",
    "\n",
    "pointsInCircle = []\n",
    "\n",
    "for point in points:\n",
    "    if point not in pointsInCircle:\n",
    "        pointsInCircle.append(point)\n",
    "    else:\n",
    "        break\n",
    "    \n",
    "    \n",
    "\n",
    "print(pointsInCircle, \"answer=\", len(pointsInCircle))\n"
   ]
  },
  {
   "cell_type": "code",
   "execution_count": null,
   "id": "f3b2021a",
   "metadata": {},
   "outputs": [],
   "source": []
  }
 ],
 "metadata": {
  "kernelspec": {
   "display_name": "Python 3",
   "language": "python",
   "name": "python3"
  },
  "language_info": {
   "codemirror_mode": {
    "name": "ipython",
    "version": 3
   },
   "file_extension": ".py",
   "mimetype": "text/x-python",
   "name": "python",
   "nbconvert_exporter": "python",
   "pygments_lexer": "ipython3",
   "version": "3.8.8"
  }
 },
 "nbformat": 4,
 "nbformat_minor": 5
}
